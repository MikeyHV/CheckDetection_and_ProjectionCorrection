{
 "cells": [
  {
   "cell_type": "code",
   "execution_count": 1,
   "id": "087093a5-a2f1-4ee3-873a-6dd82f485d0b",
   "metadata": {},
   "outputs": [],
   "source": [
    "from tensorflow.keras.models import load_model\n",
    "from imutils.contours import sort_contours"
   ]
  },
  {
   "cell_type": "code",
   "execution_count": 2,
   "id": "cf883b87-60b9-406f-8a24-d98343d9e2e8",
   "metadata": {},
   "outputs": [],
   "source": [
    "import numpy as np\n",
    "import imutils\n",
    "import cv2"
   ]
  },
  {
   "cell_type": "code",
   "execution_count": null,
   "id": "1d4a95bd-f9f0-4a13-904a-93de53b6c73b",
   "metadata": {},
   "outputs": [],
   "source": [
    "import cv2\n",
    "import pytesseract\n",
    "# !pytesseract.pytesseract.tesseract_cmd=r'C:Program FilesTesseract-OCRtesseract.exe'\n",
    "pytesseract.pytesseract.tesseract_cmd = \"/usr/local/Cellar/tesseract/5.1.0/bin/tesseract\"\n",
    "img = cv2.imread(\"samples/temptemp.png\")\n",
    "img = cv2.resize(zz, (400, 450))\n",
    "text = pytesseract.image_to_string(img)\n",
    "print(text)\n",
    "pltshow(img)\n",
    "# cv2.waitKey(0)\n",
    "# cv2.destroyAllWindows()"
   ]
  },
  {
   "cell_type": "code",
   "execution_count": null,
   "id": "9bfd2d97-15fa-45fe-b265-07290a3d8ae7",
   "metadata": {},
   "outputs": [],
   "source": []
  }
 ],
 "metadata": {
  "kernelspec": {
   "display_name": "Python 3 (ipykernel)",
   "language": "python",
   "name": "python3"
  },
  "language_info": {
   "codemirror_mode": {
    "name": "ipython",
    "version": 3
   },
   "file_extension": ".py",
   "mimetype": "text/x-python",
   "name": "python",
   "nbconvert_exporter": "python",
   "pygments_lexer": "ipython3",
   "version": "3.9.6"
  }
 },
 "nbformat": 4,
 "nbformat_minor": 5
}
